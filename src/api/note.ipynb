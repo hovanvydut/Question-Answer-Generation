{
 "cells": [
  {
   "cell_type": "code",
   "execution_count": 1,
   "metadata": {},
   "outputs": [
    {
     "name": "stderr",
     "output_type": "stream",
     "text": [
      "/root/.pyenv/versions/3.9.9/envs/capstone/lib/python3.9/site-packages/tqdm/auto.py:22: TqdmWarning: IProgress not found. Please update jupyter and ipywidgets. See https://ipywidgets.readthedocs.io/en/stable/user_install.html\n",
      "  from .autonotebook import tqdm as notebook_tqdm\n"
     ]
    }
   ],
   "source": [
    "from transformers import (\n",
    "    T5ForConditionalGeneration,\n",
    "    MT5ForConditionalGeneration,\n",
    "    T5Tokenizer\n",
    ")\n",
    "\n",
    "import argparse\n",
    "import pandas as pd\n",
    "import sys\n",
    "import os\n",
    "sys.path.append(\"../\")\n",
    "from utils import currentdate, QAG_TAG, QG_TAG, AE_TAG\n",
    "\n",
    "from model.model_qag import QAGModel\n",
    "from utils import currentdate\n",
    "import time\n",
    "import json\n",
    "import torch\n",
    "\n",
    "def generate(args, device, qgmodel: QAGModel, tokenizer: T5Tokenizer,  context: str) -> str:\n",
    "\n",
    "    source_encoding = tokenizer(\n",
    "        context,\n",
    "        max_length=args.max_len_input,\n",
    "        padding='max_length',\n",
    "        truncation = 'only_second',\n",
    "        return_attention_mask=True,\n",
    "        add_special_tokens=True,\n",
    "        return_tensors='pt'\n",
    "    )\n",
    "\n",
    "    input_ids = source_encoding['input_ids'].to(device)\n",
    "    attention_mask = source_encoding['attention_mask'].to(device)\n",
    "\n",
    "    generated_ids = qgmodel.model.generate(\n",
    "        input_ids=input_ids,\n",
    "        attention_mask=attention_mask,\n",
    "        num_return_sequences=args.num_return_sequences,\n",
    "        num_beams=args.num_beams, \n",
    "        max_length=args.max_len_output,\n",
    "        repetition_penalty=args.repetition_penalty,\n",
    "        length_penalty=args.length_penalty,\n",
    "        early_stopping=True,\n",
    "        use_cache=True\n",
    "    )\n",
    "\n",
    "    preds = {\n",
    "        tokenizer.decode(generated_id, skip_special_tokens=True, clean_up_tokenization_spaces=True)\n",
    "        for generated_id in generated_ids\n",
    "    }\n",
    "    \n",
    "    return '<DIV>'.join(preds)\n",
    "\n"
   ]
  },
  {
   "cell_type": "code",
   "execution_count": 2,
   "metadata": {},
   "outputs": [
    {
     "name": "stdout",
     "output_type": "stream",
     "text": [
      "Device for inference: cuda\n"
     ]
    }
   ],
   "source": [
    "params_dict = dict(\n",
    "    checkpoint_model_path = \"../../checkpoints/qag/model-epoch=01-val_loss=1.14.ckpt\",\n",
    "    model_name = \"google/mt5-base\",\n",
    "    tokenizer_name = \"google/mt5-base\",\n",
    "    max_len_input = 512,\n",
    "    max_len_output = 96,\n",
    "    num_beams = 5,\n",
    "    num_return_sequences = 5,\n",
    "    repetition_penalty = 1.0,\n",
    "    length_penalty = 1.0,\n",
    ")\n",
    "params = argparse.Namespace(**params_dict)\n",
    "\n",
    "t5_tokenizer = T5Tokenizer.from_pretrained(params.tokenizer_name)\n",
    "if \"mt5\" in params.model_name:\n",
    "    t5_model = MT5ForConditionalGeneration.from_pretrained(params.model_name)\n",
    "else:\n",
    "    t5_model = T5ForConditionalGeneration.from_pretrained(params.model_name)\n",
    "\n",
    "checkpoint_model_path = params.checkpoint_model_path\n",
    "qgmodel = QAGModel.load_from_checkpoint(checkpoint_model_path, hparams=params, t5model=t5_model, t5tokenizer=t5_tokenizer)\n",
    "\n",
    "qgmodel.freeze()\n",
    "qgmodel.eval()\n",
    "\n",
    "# Put model in gpu (if possible) or cpu (if not possible) for inference purpose\n",
    "device = torch.device(\"cuda\" if torch.cuda.is_available() else \"cpu\")\n",
    "qgmodel = qgmodel.to(device)\n",
    "print (\"Device for inference:\", device)"
   ]
  },
  {
   "cell_type": "code",
   "execution_count": 37,
   "metadata": {},
   "outputs": [],
   "source": [
    "df_test = pd.read_pickle(\"../../data/squad_vi/raw/dataframe/df_test_en.pkl\")"
   ]
  },
  {
   "cell_type": "code",
   "execution_count": 7,
   "metadata": {},
   "outputs": [],
   "source": [
    "df_train = pd.read_pickle(\"../../data/squad_vi/raw/dataframe/df_train_en.pkl\")\n",
    "df_val = pd.read_pickle(\"../../data/squad_vi/raw/dataframe/df_validation_en.pkl\")"
   ]
  },
  {
   "cell_type": "code",
   "execution_count": 6,
   "metadata": {},
   "outputs": [
    {
     "data": {
      "text/plain": [
       "(104256, 3)"
      ]
     },
     "execution_count": 6,
     "metadata": {},
     "output_type": "execute_result"
    }
   ],
   "source": [
    "df_train.shape"
   ]
  },
  {
   "cell_type": "code",
   "execution_count": 5,
   "metadata": {},
   "outputs": [
    {
     "data": {
      "text/plain": [
       "(26063, 3)"
      ]
     },
     "execution_count": 5,
     "metadata": {},
     "output_type": "execute_result"
    }
   ],
   "source": [
    "df_test.shape"
   ]
  },
  {
   "cell_type": "code",
   "execution_count": 9,
   "metadata": {},
   "outputs": [
    {
     "data": {
      "text/plain": [
       "(11873, 3)"
      ]
     },
     "execution_count": 9,
     "metadata": {},
     "output_type": "execute_result"
    }
   ],
   "source": [
    "df_val.shape"
   ]
  },
  {
   "cell_type": "code",
   "execution_count": null,
   "metadata": {},
   "outputs": [],
   "source": [
    "df_train"
   ]
  },
  {
   "cell_type": "code",
   "execution_count": null,
   "metadata": {},
   "outputs": [],
   "source": [
    "df_test"
   ]
  },
  {
   "cell_type": "code",
   "execution_count": null,
   "metadata": {},
   "outputs": [],
   "source": [
    "!pip install matplotlib"
   ]
  },
  {
   "cell_type": "code",
   "execution_count": 14,
   "metadata": {},
   "outputs": [
    {
     "data": {
      "image/png": "[encoded data removed]",
      "text/plain": [
       "<Figure size 640x480 with 1 Axes>"
      ]
     },
     "metadata": {},
     "output_type": "display_data"
    }
   ],
   "source": [
    "import matplotlib.pyplot as plt\n",
    "import numpy as np\n",
    "\n",
    "n_train = df_train.shape[0]\n",
    "n_val = df_val.shape[0]\n",
    "n_test = df_test.shape[0]\n",
    "n_dataset = n_train + n_val + n_test\n",
    "\n",
    "p_train = n_train / n_dataset * 100\n",
    "p_val = n_val / n_dataset * 100\n",
    "p_test = n_test / n_dataset * 100\n",
    "\n",
    "y = np.array([p_train, p_val, p_test])\n",
    "mylabels = [\"Training data\", \"Validation data\", \"Test data\"]\n",
    "plt.pie(y, labels = mylabels)\n",
    "plt.title(\"Data training needs\")\n",
    "plt.show()"
   ]
  },
  {
   "cell_type": "markdown",
   "metadata": {},
   "source": [
    "### Config Tokenizer"
   ]
  },
  {
   "cell_type": "code",
   "execution_count": null,
   "metadata": {},
   "outputs": [],
   "source": [
    "# Customize tokenizer behavior for Vietnamese\n",
    "t5_tokenizer.do_lower_case = True  # Set to True if you want lowercase tokens\n",
    "t5_tokenizer.remove_space = True  # Set to True if you want to remove leading/trailing spaces"
   ]
  },
  {
   "cell_type": "markdown",
   "metadata": {},
   "source": [
    "## BELU"
   ]
  },
  {
   "cell_type": "code",
   "execution_count": null,
   "metadata": {},
   "outputs": [],
   "source": [
    "!pip install nltk\n",
    "!pip install rouge-metric"
   ]
  },
  {
   "cell_type": "code",
   "execution_count": null,
   "metadata": {},
   "outputs": [],
   "source": [
    "import nltk\n",
    "from nltk.translate.bleu_score import corpus_bleu, sentence_bleu, SmoothingFunction\n",
    "from nltk.metrics.scores import (precision, recall)"
   ]
  },
  {
   "cell_type": "code",
   "execution_count": null,
   "metadata": {},
   "outputs": [],
   "source": [
    "smoothie = SmoothingFunction().method4\n",
    "# https://github.com/nltk/nltk/issues/2217"
   ]
  },
  {
   "cell_type": "code",
   "execution_count": null,
   "metadata": {},
   "outputs": [],
   "source": [
    "i = 1\n",
    "context_ref = df_test.loc[i][\"context\"]\n",
    "answer_ref = df_test.loc[i][\"answer\"]\n",
    "question_ref = df_test.loc[i][\"question\"]"
   ]
  },
  {
   "cell_type": "code",
   "execution_count": null,
   "metadata": {},
   "outputs": [],
   "source": [
    "print(context_ref)\n",
    "print(answer_ref)\n",
    "print(question_ref)"
   ]
  },
  {
   "cell_type": "code",
   "execution_count": null,
   "metadata": {},
   "outputs": [],
   "source": [
    "source_text = f\"{QG_TAG} answer: {answer_ref} context: {context_ref}\""
   ]
  },
  {
   "cell_type": "code",
   "execution_count": null,
   "metadata": {},
   "outputs": [],
   "source": [
    "custom_config = params_dict.copy()\n",
    "custom_config[\"num_return_sequences\"] = 1\n",
    "custom_config = argparse.Namespace(**custom_config)"
   ]
  },
  {
   "cell_type": "code",
   "execution_count": null,
   "metadata": {},
   "outputs": [],
   "source": [
    "question_predicted = generate(custom_config, device, qgmodel, t5_tokenizer, source_text)"
   ]
  },
  {
   "cell_type": "code",
   "execution_count": null,
   "metadata": {},
   "outputs": [],
   "source": [
    "question_predicted"
   ]
  },
  {
   "cell_type": "code",
   "execution_count": null,
   "metadata": {},
   "outputs": [],
   "source": [
    "references = t5_tokenizer.encode(question_ref)\n",
    "references = t5_tokenizer.convert_ids_to_tokens(references)\n",
    "candidates = t5_tokenizer.encode(question_predicted)\n",
    "candidates = t5_tokenizer.convert_ids_to_tokens(candidates)"
   ]
  },
  {
   "cell_type": "code",
   "execution_count": null,
   "metadata": {},
   "outputs": [],
   "source": [
    "references"
   ]
  },
  {
   "cell_type": "code",
   "execution_count": null,
   "metadata": {},
   "outputs": [],
   "source": [
    "candidates"
   ]
  },
  {
   "cell_type": "code",
   "execution_count": null,
   "metadata": {},
   "outputs": [],
   "source": [
    "score = corpus_bleu([references], [candidates], weights=(1, 0, 0, 0))\n",
    "score"
   ]
  },
  {
   "cell_type": "markdown",
   "metadata": {},
   "source": [
    "## Eval QG"
   ]
  },
  {
   "cell_type": "code",
   "execution_count": 3,
   "metadata": {},
   "outputs": [],
   "source": [
    "custom_config = params_dict.copy()\n",
    "custom_config[\"num_return_sequences\"] = 1\n",
    "custom_config = argparse.Namespace(**custom_config)"
   ]
  },
  {
   "cell_type": "code",
   "execution_count": null,
   "metadata": {},
   "outputs": [],
   "source": [
    "df_test.shape"
   ]
  },
  {
   "cell_type": "code",
   "execution_count": 40,
   "metadata": {},
   "outputs": [],
   "source": [
    "import pickle\n",
    "start_idx = 0\n",
    "n = df_test.shape[0]\n",
    "# n = 42\n",
    "data_test = []\n",
    "c = 0\n",
    "generated_questions = []\n",
    "\n",
    "# Load the existing data from the pickle file, if it exists\n",
    "try:\n",
    "    with open('./generated_data.pkl', 'rb') as f:\n",
    "        generated_data = pickle.load(f)\n",
    "        generated_questions = [row[3] for row in generated_data]\n",
    "        start_idx = len(generated_data)\n",
    "except FileNotFoundError:\n",
    "    generated_data = []\n",
    "\n",
    "for i in range(start_idx, n):\n",
    "    context_ref = df_test.loc[i][\"context\"]\n",
    "    answer_ref = df_test.loc[i][\"answer\"]\n",
    "    question_ref = df_test.loc[i][\"question\"]\n",
    "\n",
    "    source_text = f\"{QG_TAG} answer: {answer_ref} context: {context_ref}\"\n",
    "    question_predicted = generate(custom_config, device, qgmodel, t5_tokenizer, source_text)\n",
    "    data_test.append([context_ref, answer_ref, question_ref, question_predicted])\n",
    "    generated_questions.append(question_predicted)\n",
    "    c += 1\n",
    "    if c >= 10:\n",
    "        # Append the newly generated data to the existing data\n",
    "        generated_data.extend(data_test)\n",
    "        data_test = []\n",
    "\n",
    "        # Save the updated data to the pickle file\n",
    "        with open('generated_data.pkl', 'wb') as f:\n",
    "            pickle.dump(generated_data, f)\n",
    "        c = 0\n",
    "    print(f\"Generated question i-th = {i}\")\n",
    "# Append the remaining data to the existing data\n",
    "generated_data.extend(data_test)\n",
    "\n",
    "# Save the final set of generated data to the pickle file\n",
    "with open('generated_data.pkl', 'wb') as f:\n",
    "    pickle.dump(generated_data, f)"
   ]
  },
  {
   "cell_type": "markdown",
   "metadata": {},
   "source": [
    "## Eval AE"
   ]
  },
  {
   "cell_type": "code",
   "execution_count": 35,
   "metadata": {},
   "outputs": [],
   "source": [
    "custom_config = params_dict.copy()\n",
    "custom_config[\"num_return_sequences\"] = 1\n",
    "custom_config = argparse.Namespace(**custom_config)"
   ]
  },
  {
   "cell_type": "code",
   "execution_count": 38,
   "metadata": {},
   "outputs": [
    {
     "name": "stdout",
     "output_type": "stream",
     "text": [
      "Generated answer i-th = 0\n",
      "Generated answer i-th = 1\n",
      "Generated answer i-th = 2\n",
      "Generated answer i-th = 3\n",
      "Generated answer i-th = 4\n",
      "Generated answer i-th = 5\n",
      "Generated answer i-th = 6\n",
      "Generated answer i-th = 7\n",
      "Generated answer i-th = 8\n",
      "Generated answer i-th = 9\n",
      "Generated answer i-th = 10\n",
      "Generated answer i-th = 11\n",
      "Generated answer i-th = 12\n",
      "Generated answer i-th = 13\n",
      "Generated answer i-th = 14\n",
      "Generated answer i-th = 15\n",
      "Generated answer i-th = 16\n",
      "Generated answer i-th = 17\n",
      "Generated answer i-th = 18\n",
      "Generated answer i-th = 19\n",
      "Generated answer i-th = 20\n",
      "Generated answer i-th = 21\n",
      "Generated answer i-th = 22\n",
      "Generated answer i-th = 23\n",
      "Generated answer i-th = 24\n",
      "Generated answer i-th = 25\n",
      "Generated answer i-th = 26\n",
      "Generated answer i-th = 27\n",
      "Generated answer i-th = 28\n",
      "Generated answer i-th = 29\n",
      "Generated answer i-th = 30\n",
      "Generated answer i-th = 31\n",
      "Generated answer i-th = 32\n",
      "Generated answer i-th = 33\n",
      "Generated answer i-th = 34\n",
      "Generated answer i-th = 35\n",
      "Generated answer i-th = 36\n",
      "Generated answer i-th = 37\n",
      "Generated answer i-th = 38\n",
      "Generated answer i-th = 39\n",
      "Generated answer i-th = 40\n",
      "Generated answer i-th = 41\n",
      "Generated answer i-th = 42\n",
      "Generated answer i-th = 43\n",
      "Generated answer i-th = 44\n",
      "Generated answer i-th = 45\n",
      "Generated answer i-th = 46\n",
      "Generated answer i-th = 47\n",
      "Generated answer i-th = 48\n",
      "Generated answer i-th = 49\n",
      "Generated answer i-th = 50\n",
      "Generated answer i-th = 51\n",
      "Generated answer i-th = 52\n",
      "Generated answer i-th = 53\n",
      "Generated answer i-th = 54\n",
      "Generated answer i-th = 55\n",
      "Generated answer i-th = 56\n",
      "Generated answer i-th = 57\n",
      "Generated answer i-th = 58\n",
      "Generated answer i-th = 59\n",
      "Generated answer i-th = 60\n",
      "Generated answer i-th = 61\n",
      "Generated answer i-th = 62\n",
      "Generated answer i-th = 63\n",
      "Generated answer i-th = 64\n",
      "Generated answer i-th = 65\n",
      "Generated answer i-th = 66\n",
      "Generated answer i-th = 67\n",
      "Generated answer i-th = 68\n",
      "Generated answer i-th = 69\n",
      "Generated answer i-th = 70\n",
      "Generated answer i-th = 71\n",
      "Generated answer i-th = 72\n",
      "Generated answer i-th = 73\n",
      "Generated answer i-th = 74\n",
      "Generated answer i-th = 75\n",
      "Generated answer i-th = 76\n",
      "Generated answer i-th = 77\n",
      "Generated answer i-th = 78\n",
      "Generated answer i-th = 79\n",
      "Generated answer i-th = 80\n",
      "Generated answer i-th = 81\n",
      "Generated answer i-th = 82\n",
      "Generated answer i-th = 83\n",
      "Generated answer i-th = 84\n",
      "Generated answer i-th = 85\n",
      "Generated answer i-th = 86\n",
      "Generated answer i-th = 87\n",
      "Generated answer i-th = 88\n",
      "Generated answer i-th = 89\n",
      "Generated answer i-th = 90\n",
      "Generated answer i-th = 91\n",
      "Generated answer i-th = 92\n",
      "Generated answer i-th = 93\n",
      "Generated answer i-th = 94\n",
      "Generated answer i-th = 95\n",
      "Generated answer i-th = 96\n",
      "Generated answer i-th = 97\n",
      "Generated answer i-th = 98\n",
      "Generated answer i-th = 99\n"
     ]
    }
   ],
   "source": [
    "import pickle\n",
    "start_idx = 0\n",
    "# n = df_test.shape[0]\n",
    "n = 100\n",
    "data_test = []\n",
    "c = 0\n",
    "generated_answers = []\n",
    "\n",
    "# Load the existing data from the pickle file, if it exists\n",
    "try:\n",
    "    with open('./ae_generated_data.pkl', 'rb') as f:\n",
    "        generated_data = pickle.load(f)\n",
    "        generated_answers = [row[3] for row in generated_data]\n",
    "        start_idx = len(generated_data)\n",
    "except FileNotFoundError:\n",
    "    generated_data = []\n",
    "\n",
    "for i in range(start_idx, n):\n",
    "    context_ref = df_test.loc[i][\"context\"]\n",
    "    answer_ref = df_test.loc[i][\"answer\"]\n",
    "    question_ref = df_test.loc[i][\"question\"]\n",
    "\n",
    "    source_text = f\"{AE_TAG} context: {context_ref}\"\n",
    "    answer_predicted = generate(custom_config, device, qgmodel, t5_tokenizer, source_text)\n",
    "    data_test.append([context_ref, answer_ref, question_ref, answer_predicted])\n",
    "    generated_answers.append(answer_predicted)\n",
    "    c += 1\n",
    "    if c >= 10:\n",
    "        # Append the newly generated data to the existing data\n",
    "        generated_data.extend(data_test)\n",
    "        data_test = []\n",
    "\n",
    "        # Save the updated data to the pickle file\n",
    "        with open('ae_generated_data.pkl', 'wb') as f:\n",
    "            pickle.dump(generated_data, f)\n",
    "        c = 0\n",
    "    print(f\"Generated answer i-th = {i}\")\n",
    "# Append the remaining data to the existing data\n",
    "generated_data.extend(data_test)\n",
    "\n",
    "# Save the final set of generated data to the pickle file\n",
    "with open('ae_generated_data.pkl', 'wb') as f:\n",
    "    pickle.dump(generated_data, f)"
   ]
  },
  {
   "cell_type": "code",
   "execution_count": 45,
   "metadata": {},
   "outputs": [
    {
     "data": {
      "text/html": [
       "<div>\n",
       "<style scoped>\n",
       "    .dataframe tbody tr th:only-of-type {\n",
       "        vertical-align: middle;\n",
       "    }\n",
       "\n",
       "    .dataframe tbody tr th {\n",
       "        vertical-align: top;\n",
       "    }\n",
       "\n",
       "    .dataframe thead th {\n",
       "        text-align: right;\n",
       "    }\n",
       "</style>\n",
       "<table border=\"1\" class=\"dataframe\">\n",
       "  <thead>\n",
       "    <tr style=\"text-align: right;\">\n",
       "      <th></th>\n",
       "      <th>context_ref</th>\n",
       "      <th>answer_ref</th>\n",
       "      <th>question_ref</th>\n",
       "      <th>answer_predicted</th>\n",
       "    </tr>\n",
       "  </thead>\n",
       "  <tbody>\n",
       "    <tr>\n",
       "      <th>0</th>\n",
       "      <td>Beyoncé Giselle Knowles-Carter (/ b i gì ɒ n s...</td>\n",
       "      <td>Vào cuối những năm 1990</td>\n",
       "      <td>Beyonce bắt đầu nổi tiếng từ khi nào?</td>\n",
       "      <td>\"Crazy in Love\"</td>\n",
       "    </tr>\n",
       "    <tr>\n",
       "      <th>1</th>\n",
       "      <td>Beyoncé Giselle Knowles-Carter (/ b i gì ɒ n s...</td>\n",
       "      <td>Hát và nhảy múa</td>\n",
       "      <td>Beyonce đã cạnh tranh trong lĩnh vực nào khi c...</td>\n",
       "      <td>\"Crazy in Love\"</td>\n",
       "    </tr>\n",
       "    <tr>\n",
       "      <th>2</th>\n",
       "      <td>Beyoncé Giselle Knowles-Carter (/ b i gì ɒ n s...</td>\n",
       "      <td>2003</td>\n",
       "      <td>Beyonce rời Destiny's Child và trở thành ca sĩ...</td>\n",
       "      <td>\"Crazy in Love\"</td>\n",
       "    </tr>\n",
       "    <tr>\n",
       "      <th>3</th>\n",
       "      <td>Beyoncé Giselle Knowles-Carter (/ b i gì ɒ n s...</td>\n",
       "      <td>Houston Khách sạn</td>\n",
       "      <td>Beyonce lớn lên ở thành phố và tiểu bang nào?</td>\n",
       "      <td>\"Crazy in Love\"</td>\n",
       "    </tr>\n",
       "    <tr>\n",
       "      <th>4</th>\n",
       "      <td>Beyoncé Giselle Knowles-Carter (/ b i gì ɒ n s...</td>\n",
       "      <td>Cuối những năm 1990</td>\n",
       "      <td>Beyonce nổi tiếng trong thập kỷ nào?</td>\n",
       "      <td>\"Crazy in Love\"</td>\n",
       "    </tr>\n",
       "    <tr>\n",
       "      <th>...</th>\n",
       "      <td>...</td>\n",
       "      <td>...</td>\n",
       "      <td>...</td>\n",
       "      <td>...</td>\n",
       "    </tr>\n",
       "    <tr>\n",
       "      <th>95</th>\n",
       "      <td>LeToya Luckett và Roberson trở nên không hài l...</td>\n",
       "      <td>Farrah Franklin và Michelle Williams.</td>\n",
       "      <td>Ai thay thế Luckett và Roberson trong Destiny'...</td>\n",
       "      <td>Bạn trai lâu năm</td>\n",
       "    </tr>\n",
       "    <tr>\n",
       "      <th>96</th>\n",
       "      <td>LeToya Luckett và Roberson trở nên không hài l...</td>\n",
       "      <td>Beyoncé</td>\n",
       "      <td>Ai bị đổ lỗi vì Luckett và Roberson bỏ Destiny...</td>\n",
       "      <td>Bạn trai lâu năm</td>\n",
       "    </tr>\n",
       "    <tr>\n",
       "      <th>97</th>\n",
       "      <td>LeToya Luckett và Roberson trở nên không hài l...</td>\n",
       "      <td>Mẹ cô ấy</td>\n",
       "      <td>Ai đã giúp Beyoncé vượt qua chứng trầm cảm của...</td>\n",
       "      <td>Bạn trai lâu năm</td>\n",
       "    </tr>\n",
       "    <tr>\n",
       "      <th>98</th>\n",
       "      <td>LeToya Luckett và Roberson trở nên không hài l...</td>\n",
       "      <td>Chi Chi Medina</td>\n",
       "      <td>Thành viên mới nhất nào đã bị xoá khỏi Destiny...</td>\n",
       "      <td>Bạn trai lâu năm</td>\n",
       "    </tr>\n",
       "    <tr>\n",
       "      <th>99</th>\n",
       "      <td>Các thành viên ban nhạc còn lại đã thu âm \"Phụ...</td>\n",
       "      <td>Phụ nữ độc lập Phần I</td>\n",
       "      <td>\"Charlie's Angels\" có đĩa đơn nào từ các thành...</td>\n",
       "      <td>Tháng 10 năm 2001</td>\n",
       "    </tr>\n",
       "  </tbody>\n",
       "</table>\n",
       "<p>100 rows × 4 columns</p>\n",
       "</div>"
      ],
      "text/plain": [
       "                                          context_ref  \\\n",
       "0   Beyoncé Giselle Knowles-Carter (/ b i gì ɒ n s...   \n",
       "1   Beyoncé Giselle Knowles-Carter (/ b i gì ɒ n s...   \n",
       "2   Beyoncé Giselle Knowles-Carter (/ b i gì ɒ n s...   \n",
       "3   Beyoncé Giselle Knowles-Carter (/ b i gì ɒ n s...   \n",
       "4   Beyoncé Giselle Knowles-Carter (/ b i gì ɒ n s...   \n",
       "..                                                ...   \n",
       "95  LeToya Luckett và Roberson trở nên không hài l...   \n",
       "96  LeToya Luckett và Roberson trở nên không hài l...   \n",
       "97  LeToya Luckett và Roberson trở nên không hài l...   \n",
       "98  LeToya Luckett và Roberson trở nên không hài l...   \n",
       "99  Các thành viên ban nhạc còn lại đã thu âm \"Phụ...   \n",
       "\n",
       "                               answer_ref  \\\n",
       "0                 Vào cuối những năm 1990   \n",
       "1                         Hát và nhảy múa   \n",
       "2                                    2003   \n",
       "3                       Houston Khách sạn   \n",
       "4                     Cuối những năm 1990   \n",
       "..                                    ...   \n",
       "95  Farrah Franklin và Michelle Williams.   \n",
       "96                                Beyoncé   \n",
       "97                               Mẹ cô ấy   \n",
       "98                         Chi Chi Medina   \n",
       "99                  Phụ nữ độc lập Phần I   \n",
       "\n",
       "                                         question_ref   answer_predicted  \n",
       "0               Beyonce bắt đầu nổi tiếng từ khi nào?    \"Crazy in Love\"  \n",
       "1   Beyonce đã cạnh tranh trong lĩnh vực nào khi c...    \"Crazy in Love\"  \n",
       "2   Beyonce rời Destiny's Child và trở thành ca sĩ...    \"Crazy in Love\"  \n",
       "3      Beyonce lớn lên ở thành phố và tiểu bang nào?     \"Crazy in Love\"  \n",
       "4                Beyonce nổi tiếng trong thập kỷ nào?    \"Crazy in Love\"  \n",
       "..                                                ...                ...  \n",
       "95  Ai thay thế Luckett và Roberson trong Destiny'...   Bạn trai lâu năm  \n",
       "96  Ai bị đổ lỗi vì Luckett và Roberson bỏ Destiny...   Bạn trai lâu năm  \n",
       "97  Ai đã giúp Beyoncé vượt qua chứng trầm cảm của...   Bạn trai lâu năm  \n",
       "98  Thành viên mới nhất nào đã bị xoá khỏi Destiny...   Bạn trai lâu năm  \n",
       "99  \"Charlie's Angels\" có đĩa đơn nào từ các thành...  Tháng 10 năm 2001  \n",
       "\n",
       "[100 rows x 4 columns]"
      ]
     },
     "execution_count": 45,
     "metadata": {},
     "output_type": "execute_result"
    }
   ],
   "source": [
    "df_predict = pd.read_pickle(\"./ae_generated_data.pkl\")\n",
    "df_predict = pd.DataFrame(df_predict, columns=[\"context_ref\", \"answer_ref\", \"question_ref\", \"answer_predicted\"])\n",
    "df_predict"
   ]
  },
  {
   "cell_type": "markdown",
   "metadata": {},
   "source": [
    "### Run test"
   ]
  },
  {
   "cell_type": "code",
   "execution_count": 9,
   "metadata": {},
   "outputs": [],
   "source": [
    "import nltk\n",
    "from nltk.translate.bleu_score import corpus_bleu, SmoothingFunction"
   ]
  },
  {
   "cell_type": "code",
   "execution_count": 4,
   "metadata": {},
   "outputs": [
    {
     "data": {
      "text/html": [
       "<div>\n",
       "<style scoped>\n",
       "    .dataframe tbody tr th:only-of-type {\n",
       "        vertical-align: middle;\n",
       "    }\n",
       "\n",
       "    .dataframe tbody tr th {\n",
       "        vertical-align: top;\n",
       "    }\n",
       "\n",
       "    .dataframe thead th {\n",
       "        text-align: right;\n",
       "    }\n",
       "</style>\n",
       "<table border=\"1\" class=\"dataframe\">\n",
       "  <thead>\n",
       "    <tr style=\"text-align: right;\">\n",
       "      <th></th>\n",
       "      <th>context_ref</th>\n",
       "      <th>answer_ref</th>\n",
       "      <th>question_ref</th>\n",
       "      <th>question_predicted</th>\n",
       "    </tr>\n",
       "  </thead>\n",
       "  <tbody>\n",
       "    <tr>\n",
       "      <th>0</th>\n",
       "      <td>Beyoncé Giselle Knowles-Carter (/ b i gì ɒ n s...</td>\n",
       "      <td>Vào cuối những năm 1990</td>\n",
       "      <td>Beyonce bắt đầu nổi tiếng từ khi nào?</td>\n",
       "      <td>Năm nào thì giselle knowles-carter nổi tiếng?</td>\n",
       "    </tr>\n",
       "    <tr>\n",
       "      <th>1</th>\n",
       "      <td>Beyoncé Giselle Knowles-Carter (/ b i gì ɒ n s...</td>\n",
       "      <td>Hát và nhảy múa</td>\n",
       "      <td>Beyonce đã cạnh tranh trong lĩnh vực nào khi c...</td>\n",
       "      <td>Nữ diễn viên của nhóm nhạc nữ bán chạy nhất th...</td>\n",
       "    </tr>\n",
       "    <tr>\n",
       "      <th>2</th>\n",
       "      <td>Beyoncé Giselle Knowles-Carter (/ b i gì ɒ n s...</td>\n",
       "      <td>2003</td>\n",
       "      <td>Beyonce rời Destiny's Child và trở thành ca sĩ...</td>\n",
       "      <td>Album đầu tay của cô ấy được phát hành khi nào?</td>\n",
       "    </tr>\n",
       "    <tr>\n",
       "      <th>3</th>\n",
       "      <td>Beyoncé Giselle Knowles-Carter (/ b i gì ɒ n s...</td>\n",
       "      <td>Houston Khách sạn</td>\n",
       "      <td>Beyonce lớn lên ở thành phố và tiểu bang nào?</td>\n",
       "      <td>Giselle Knowles-Carter lớn lên ở đâu?</td>\n",
       "    </tr>\n",
       "    <tr>\n",
       "      <th>4</th>\n",
       "      <td>Beyoncé Giselle Knowles-Carter (/ b i gì ɒ n s...</td>\n",
       "      <td>Cuối những năm 1990</td>\n",
       "      <td>Beyonce nổi tiếng trong thập kỷ nào?</td>\n",
       "      <td>Năm nào biểu diễn chính của nhóm nhạc nữ r &amp; b...</td>\n",
       "    </tr>\n",
       "    <tr>\n",
       "      <th>...</th>\n",
       "      <td>...</td>\n",
       "      <td>...</td>\n",
       "      <td>...</td>\n",
       "      <td>...</td>\n",
       "    </tr>\n",
       "    <tr>\n",
       "      <th>26058</th>\n",
       "      <td>Sau khi Cộng hoà Nhân dân Trung Hoa nắm quyền ...</td>\n",
       "      <td>Hạt ngũ cốc</td>\n",
       "      <td>Sản xuất nào mà chính sách nông nghiệp ưu tiên...</td>\n",
       "      <td>Chính sách nông nghiệp ủng hộ sản xuất gì?</td>\n",
       "    </tr>\n",
       "    <tr>\n",
       "      <th>26059</th>\n",
       "      <td>Sau khi Cộng hoà Nhân dân Trung Hoa nắm quyền ...</td>\n",
       "      <td></td>\n",
       "      <td>Chuyện gì xảy ra năm 1944?</td>\n",
       "      <td>Điều gì đã cắt đứt đường sống của các thành ph...</td>\n",
       "    </tr>\n",
       "    <tr>\n",
       "      <th>26060</th>\n",
       "      <td>Sau khi Cộng hoà Nhân dân Trung Hoa nắm quyền ...</td>\n",
       "      <td></td>\n",
       "      <td>Chuyện gì đã xảy ra vào năm 1956?</td>\n",
       "      <td>Điều gì đã cắt đứt đường sống của các thành ph...</td>\n",
       "    </tr>\n",
       "    <tr>\n",
       "      <th>26061</th>\n",
       "      <td>Sau khi Cộng hoà Nhân dân Trung Hoa nắm quyền ...</td>\n",
       "      <td></td>\n",
       "      <td>Chuyện gì xảy ra từ 1955-1977?</td>\n",
       "      <td>Điều gì đã cắt đứt đường sống của các thành ph...</td>\n",
       "    </tr>\n",
       "    <tr>\n",
       "      <th>26062</th>\n",
       "      <td>Sau khi Cộng hoà Nhân dân Trung Hoa nắm quyền ...</td>\n",
       "      <td></td>\n",
       "      <td>Khi nào thì thuỷ triều thấp của cuộc cách mạng...</td>\n",
       "      <td>Điều gì đã cắt đứt đường sống của các thành ph...</td>\n",
       "    </tr>\n",
       "  </tbody>\n",
       "</table>\n",
       "<p>26063 rows × 4 columns</p>\n",
       "</div>"
      ],
      "text/plain": [
       "                                             context_ref  \\\n",
       "0      Beyoncé Giselle Knowles-Carter (/ b i gì ɒ n s...   \n",
       "1      Beyoncé Giselle Knowles-Carter (/ b i gì ɒ n s...   \n",
       "2      Beyoncé Giselle Knowles-Carter (/ b i gì ɒ n s...   \n",
       "3      Beyoncé Giselle Knowles-Carter (/ b i gì ɒ n s...   \n",
       "4      Beyoncé Giselle Knowles-Carter (/ b i gì ɒ n s...   \n",
       "...                                                  ...   \n",
       "26058  Sau khi Cộng hoà Nhân dân Trung Hoa nắm quyền ...   \n",
       "26059  Sau khi Cộng hoà Nhân dân Trung Hoa nắm quyền ...   \n",
       "26060  Sau khi Cộng hoà Nhân dân Trung Hoa nắm quyền ...   \n",
       "26061  Sau khi Cộng hoà Nhân dân Trung Hoa nắm quyền ...   \n",
       "26062  Sau khi Cộng hoà Nhân dân Trung Hoa nắm quyền ...   \n",
       "\n",
       "                    answer_ref  \\\n",
       "0      Vào cuối những năm 1990   \n",
       "1              Hát và nhảy múa   \n",
       "2                         2003   \n",
       "3            Houston Khách sạn   \n",
       "4          Cuối những năm 1990   \n",
       "...                        ...   \n",
       "26058              Hạt ngũ cốc   \n",
       "26059                            \n",
       "26060                            \n",
       "26061                            \n",
       "26062                            \n",
       "\n",
       "                                            question_ref  \\\n",
       "0                  Beyonce bắt đầu nổi tiếng từ khi nào?   \n",
       "1      Beyonce đã cạnh tranh trong lĩnh vực nào khi c...   \n",
       "2      Beyonce rời Destiny's Child và trở thành ca sĩ...   \n",
       "3         Beyonce lớn lên ở thành phố và tiểu bang nào?    \n",
       "4                   Beyonce nổi tiếng trong thập kỷ nào?   \n",
       "...                                                  ...   \n",
       "26058  Sản xuất nào mà chính sách nông nghiệp ưu tiên...   \n",
       "26059                         Chuyện gì xảy ra năm 1944?   \n",
       "26060                  Chuyện gì đã xảy ra vào năm 1956?   \n",
       "26061                     Chuyện gì xảy ra từ 1955-1977?   \n",
       "26062  Khi nào thì thuỷ triều thấp của cuộc cách mạng...   \n",
       "\n",
       "                                      question_predicted  \n",
       "0          Năm nào thì giselle knowles-carter nổi tiếng?  \n",
       "1      Nữ diễn viên của nhóm nhạc nữ bán chạy nhất th...  \n",
       "2        Album đầu tay của cô ấy được phát hành khi nào?  \n",
       "3                  Giselle Knowles-Carter lớn lên ở đâu?  \n",
       "4      Năm nào biểu diễn chính của nhóm nhạc nữ r & b...  \n",
       "...                                                  ...  \n",
       "26058         Chính sách nông nghiệp ủng hộ sản xuất gì?  \n",
       "26059  Điều gì đã cắt đứt đường sống của các thành ph...  \n",
       "26060  Điều gì đã cắt đứt đường sống của các thành ph...  \n",
       "26061  Điều gì đã cắt đứt đường sống của các thành ph...  \n",
       "26062  Điều gì đã cắt đứt đường sống của các thành ph...  \n",
       "\n",
       "[26063 rows x 4 columns]"
      ]
     },
     "execution_count": 4,
     "metadata": {},
     "output_type": "execute_result"
    }
   ],
   "source": [
    "df_predict = pd.read_pickle(\"./generated_data.pkl\")\n",
    "df_predict = pd.DataFrame(df_predict, columns=[\"context_ref\", \"answer_ref\", \"question_ref\", \"question_predicted\"])\n",
    "df_predict"
   ]
  },
  {
   "cell_type": "code",
   "execution_count": 5,
   "metadata": {},
   "outputs": [
    {
     "data": {
      "text/plain": [
       "(26063, 4)"
      ]
     },
     "execution_count": 5,
     "metadata": {},
     "output_type": "execute_result"
    }
   ],
   "source": [
    "df_predict.shape"
   ]
  },
  {
   "cell_type": "code",
   "execution_count": 6,
   "metadata": {},
   "outputs": [
    {
     "data": {
      "text/html": [
       "<div>\n",
       "<style scoped>\n",
       "    .dataframe tbody tr th:only-of-type {\n",
       "        vertical-align: middle;\n",
       "    }\n",
       "\n",
       "    .dataframe tbody tr th {\n",
       "        vertical-align: top;\n",
       "    }\n",
       "\n",
       "    .dataframe thead th {\n",
       "        text-align: right;\n",
       "    }\n",
       "</style>\n",
       "<table border=\"1\" class=\"dataframe\">\n",
       "  <thead>\n",
       "    <tr style=\"text-align: right;\">\n",
       "      <th></th>\n",
       "      <th>context_ref</th>\n",
       "      <th>answer_ref</th>\n",
       "      <th>question_ref</th>\n",
       "      <th>question_predicted</th>\n",
       "    </tr>\n",
       "  </thead>\n",
       "  <tbody>\n",
       "    <tr>\n",
       "      <th>0</th>\n",
       "      <td>Beyoncé Giselle Knowles-Carter (/ b i gì ɒ n s...</td>\n",
       "      <td>Vào cuối những năm 1990</td>\n",
       "      <td>Beyonce bắt đầu nổi tiếng từ khi nào?</td>\n",
       "      <td>Năm nào thì giselle knowles-carter nổi tiếng?</td>\n",
       "    </tr>\n",
       "    <tr>\n",
       "      <th>1</th>\n",
       "      <td>Beyoncé Giselle Knowles-Carter (/ b i gì ɒ n s...</td>\n",
       "      <td>Hát và nhảy múa</td>\n",
       "      <td>Beyonce đã cạnh tranh trong lĩnh vực nào khi c...</td>\n",
       "      <td>Nữ diễn viên của nhóm nhạc nữ bán chạy nhất th...</td>\n",
       "    </tr>\n",
       "    <tr>\n",
       "      <th>2</th>\n",
       "      <td>Beyoncé Giselle Knowles-Carter (/ b i gì ɒ n s...</td>\n",
       "      <td>2003</td>\n",
       "      <td>Beyonce rời Destiny's Child và trở thành ca sĩ...</td>\n",
       "      <td>Album đầu tay của cô ấy được phát hành khi nào?</td>\n",
       "    </tr>\n",
       "    <tr>\n",
       "      <th>3</th>\n",
       "      <td>Beyoncé Giselle Knowles-Carter (/ b i gì ɒ n s...</td>\n",
       "      <td>Houston Khách sạn</td>\n",
       "      <td>Beyonce lớn lên ở thành phố và tiểu bang nào?</td>\n",
       "      <td>Giselle Knowles-Carter lớn lên ở đâu?</td>\n",
       "    </tr>\n",
       "    <tr>\n",
       "      <th>4</th>\n",
       "      <td>Beyoncé Giselle Knowles-Carter (/ b i gì ɒ n s...</td>\n",
       "      <td>Cuối những năm 1990</td>\n",
       "      <td>Beyonce nổi tiếng trong thập kỷ nào?</td>\n",
       "      <td>Năm nào biểu diễn chính của nhóm nhạc nữ r &amp; b...</td>\n",
       "    </tr>\n",
       "    <tr>\n",
       "      <th>...</th>\n",
       "      <td>...</td>\n",
       "      <td>...</td>\n",
       "      <td>...</td>\n",
       "      <td>...</td>\n",
       "    </tr>\n",
       "    <tr>\n",
       "      <th>26058</th>\n",
       "      <td>Sau khi Cộng hoà Nhân dân Trung Hoa nắm quyền ...</td>\n",
       "      <td>Hạt ngũ cốc</td>\n",
       "      <td>Sản xuất nào mà chính sách nông nghiệp ưu tiên...</td>\n",
       "      <td>Chính sách nông nghiệp ủng hộ sản xuất gì?</td>\n",
       "    </tr>\n",
       "    <tr>\n",
       "      <th>26059</th>\n",
       "      <td>Sau khi Cộng hoà Nhân dân Trung Hoa nắm quyền ...</td>\n",
       "      <td></td>\n",
       "      <td>Chuyện gì xảy ra năm 1944?</td>\n",
       "      <td>Điều gì đã cắt đứt đường sống của các thành ph...</td>\n",
       "    </tr>\n",
       "    <tr>\n",
       "      <th>26060</th>\n",
       "      <td>Sau khi Cộng hoà Nhân dân Trung Hoa nắm quyền ...</td>\n",
       "      <td></td>\n",
       "      <td>Chuyện gì đã xảy ra vào năm 1956?</td>\n",
       "      <td>Điều gì đã cắt đứt đường sống của các thành ph...</td>\n",
       "    </tr>\n",
       "    <tr>\n",
       "      <th>26061</th>\n",
       "      <td>Sau khi Cộng hoà Nhân dân Trung Hoa nắm quyền ...</td>\n",
       "      <td></td>\n",
       "      <td>Chuyện gì xảy ra từ 1955-1977?</td>\n",
       "      <td>Điều gì đã cắt đứt đường sống của các thành ph...</td>\n",
       "    </tr>\n",
       "    <tr>\n",
       "      <th>26062</th>\n",
       "      <td>Sau khi Cộng hoà Nhân dân Trung Hoa nắm quyền ...</td>\n",
       "      <td></td>\n",
       "      <td>Khi nào thì thuỷ triều thấp của cuộc cách mạng...</td>\n",
       "      <td>Điều gì đã cắt đứt đường sống của các thành ph...</td>\n",
       "    </tr>\n",
       "  </tbody>\n",
       "</table>\n",
       "<p>26063 rows × 4 columns</p>\n",
       "</div>"
      ],
      "text/plain": [
       "                                             context_ref  \\\n",
       "0      Beyoncé Giselle Knowles-Carter (/ b i gì ɒ n s...   \n",
       "1      Beyoncé Giselle Knowles-Carter (/ b i gì ɒ n s...   \n",
       "2      Beyoncé Giselle Knowles-Carter (/ b i gì ɒ n s...   \n",
       "3      Beyoncé Giselle Knowles-Carter (/ b i gì ɒ n s...   \n",
       "4      Beyoncé Giselle Knowles-Carter (/ b i gì ɒ n s...   \n",
       "...                                                  ...   \n",
       "26058  Sau khi Cộng hoà Nhân dân Trung Hoa nắm quyền ...   \n",
       "26059  Sau khi Cộng hoà Nhân dân Trung Hoa nắm quyền ...   \n",
       "26060  Sau khi Cộng hoà Nhân dân Trung Hoa nắm quyền ...   \n",
       "26061  Sau khi Cộng hoà Nhân dân Trung Hoa nắm quyền ...   \n",
       "26062  Sau khi Cộng hoà Nhân dân Trung Hoa nắm quyền ...   \n",
       "\n",
       "                    answer_ref  \\\n",
       "0      Vào cuối những năm 1990   \n",
       "1              Hát và nhảy múa   \n",
       "2                         2003   \n",
       "3            Houston Khách sạn   \n",
       "4          Cuối những năm 1990   \n",
       "...                        ...   \n",
       "26058              Hạt ngũ cốc   \n",
       "26059                            \n",
       "26060                            \n",
       "26061                            \n",
       "26062                            \n",
       "\n",
       "                                            question_ref  \\\n",
       "0                  Beyonce bắt đầu nổi tiếng từ khi nào?   \n",
       "1      Beyonce đã cạnh tranh trong lĩnh vực nào khi c...   \n",
       "2      Beyonce rời Destiny's Child và trở thành ca sĩ...   \n",
       "3         Beyonce lớn lên ở thành phố và tiểu bang nào?    \n",
       "4                   Beyonce nổi tiếng trong thập kỷ nào?   \n",
       "...                                                  ...   \n",
       "26058  Sản xuất nào mà chính sách nông nghiệp ưu tiên...   \n",
       "26059                         Chuyện gì xảy ra năm 1944?   \n",
       "26060                  Chuyện gì đã xảy ra vào năm 1956?   \n",
       "26061                     Chuyện gì xảy ra từ 1955-1977?   \n",
       "26062  Khi nào thì thuỷ triều thấp của cuộc cách mạng...   \n",
       "\n",
       "                                      question_predicted  \n",
       "0          Năm nào thì giselle knowles-carter nổi tiếng?  \n",
       "1      Nữ diễn viên của nhóm nhạc nữ bán chạy nhất th...  \n",
       "2        Album đầu tay của cô ấy được phát hành khi nào?  \n",
       "3                  Giselle Knowles-Carter lớn lên ở đâu?  \n",
       "4      Năm nào biểu diễn chính của nhóm nhạc nữ r & b...  \n",
       "...                                                  ...  \n",
       "26058         Chính sách nông nghiệp ủng hộ sản xuất gì?  \n",
       "26059  Điều gì đã cắt đứt đường sống của các thành ph...  \n",
       "26060  Điều gì đã cắt đứt đường sống của các thành ph...  \n",
       "26061  Điều gì đã cắt đứt đường sống của các thành ph...  \n",
       "26062  Điều gì đã cắt đứt đường sống của các thành ph...  \n",
       "\n",
       "[26063 rows x 4 columns]"
      ]
     },
     "execution_count": 6,
     "metadata": {},
     "output_type": "execute_result"
    }
   ],
   "source": [
    "df_predict = pd.DataFrame(df_predict, columns = [\"context_ref\", \"answer_ref\", \"question_ref\", \"question_predicted\"])\n",
    "df_predict"
   ]
  },
  {
   "cell_type": "code",
   "execution_count": 7,
   "metadata": {},
   "outputs": [
    {
     "name": "stdout",
     "output_type": "stream",
     "text": [
      "tokenized i-th = 0\n",
      "tokenized i-th = 1\n",
      "tokenized i-th = 2\n",
      "tokenized i-th = 3\n",
      "tokenized i-th = 4\n",
      "tokenized i-th = 5\n",
      "tokenized i-th = 6\n",
      "tokenized i-th = 7\n",
      "tokenized i-th = 8\n",
      "tokenized i-th = 9\n",
      "tokenized i-th = 10\n",
      "tokenized i-th = 11\n",
      "tokenized i-th = 12\n",
      "tokenized i-th = 13\n",
      "tokenized i-th = 14\n",
      "tokenized i-th = 15\n",
      "tokenized i-th = 16\n",
      "tokenized i-th = 17\n",
      "tokenized i-th = 18\n",
      "tokenized i-th = 19\n",
      "tokenized i-th = 20\n",
      "tokenized i-th = 21\n",
      "tokenized i-th = 22\n",
      "tokenized i-th = 23\n",
      "tokenized i-th = 24\n",
      "tokenized i-th = 25\n",
      "tokenized i-th = 26\n",
      "tokenized i-th = 27\n",
      "tokenized i-th = 28\n",
      "tokenized i-th = 29\n",
      "tokenized i-th = 30\n",
      "tokenized i-th = 31\n",
      "tokenized i-th = 32\n",
      "tokenized i-th = 33\n",
      "tokenized i-th = 34\n",
      "tokenized i-th = 35\n",
      "tokenized i-th = 36\n",
      "tokenized i-th = 37\n",
      "tokenized i-th = 38\n",
      "tokenized i-th = 39\n",
      "tokenized i-th = 40\n",
      "tokenized i-th = 41\n",
      "tokenized i-th = 42\n",
      "tokenized i-th = 43\n",
      "tokenized i-th = 44\n",
      "tokenized i-th = 45\n",
      "tokenized i-th = 46\n",
      "tokenized i-th = 47\n",
      "tokenized i-th = 48\n",
      "tokenized i-th = 49\n",
      "tokenized i-th = 50\n",
      "tokenized i-th = 51\n",
      "tokenized i-th = 52\n",
      "tokenized i-th = 53\n",
      "tokenized i-th = 54\n",
      "tokenized i-th = 55\n",
      "tokenized i-th = 56\n",
      "tokenized i-th = 57\n",
      "tokenized i-th = 58\n",
      "tokenized i-th = 59\n",
      "tokenized i-th = 60\n",
      "tokenized i-th = 61\n",
      "tokenized i-th = 62\n",
      "tokenized i-th = 63\n",
      "tokenized i-th = 64\n",
      "tokenized i-th = 65\n",
      "tokenized i-th = 66\n",
      "tokenized i-th = 67\n",
      "tokenized i-th = 68\n",
      "tokenized i-th = 69\n",
      "tokenized i-th = 70\n",
      "tokenized i-th = 71\n",
      "tokenized i-th = 72\n",
      "tokenized i-th = 73\n",
      "tokenized i-th = 74\n",
      "tokenized i-th = 75\n",
      "tokenized i-th = 76\n",
      "tokenized i-th = 77\n",
      "tokenized i-th = 78\n",
      "tokenized i-th = 79\n",
      "tokenized i-th = 80\n",
      "tokenized i-th = 81\n",
      "tokenized i-th = 82\n",
      "tokenized i-th = 83\n",
      "tokenized i-th = 84\n",
      "tokenized i-th = 85\n",
      "tokenized i-th = 86\n",
      "tokenized i-th = 87\n",
      "tokenized i-th = 88\n",
      "tokenized i-th = 89\n",
      "tokenized i-th = 90\n",
      "tokenized i-th = 91\n",
      "tokenized i-th = 92\n",
      "tokenized i-th = 93\n",
      "tokenized i-th = 94\n",
      "tokenized i-th = 95\n",
      "tokenized i-th = 96\n",
      "tokenized i-th = 97\n",
      "tokenized i-th = 98\n",
      "tokenized i-th = 99\n"
     ]
    }
   ],
   "source": [
    "references_str = df_predict[\"question_ref\"].to_list()\n",
    "candidates_str = df_predict[\"question_predicted\"].to_list()\n",
    "references = [] # list of list tokens\n",
    "candidates = [] # list of list tokens\n",
    "start_idx = 0\n",
    "n = 100\n",
    "for i in range(start_idx, n):\n",
    "    ref_ids = t5_tokenizer.encode(references_str[i])\n",
    "    ref_tokens = t5_tokenizer.convert_ids_to_tokens(ref_ids)\n",
    "    references.append(ref_tokens)\n",
    "\n",
    "    can_ids = t5_tokenizer.encode(candidates_str[i])\n",
    "    can_tokens = t5_tokenizer.convert_ids_to_tokens(can_ids)\n",
    "    candidates.append(can_tokens)\n",
    "    print(\"tokenized i-th = \" + str(i))"
   ]
  },
  {
   "cell_type": "code",
   "execution_count": 27,
   "metadata": {},
   "outputs": [],
   "source": [
    "smoothie = SmoothingFunction().method4"
   ]
  },
  {
   "cell_type": "code",
   "execution_count": 32,
   "metadata": {},
   "outputs": [
    {
     "data": {
      "text/plain": [
       "23.301375573155482"
      ]
     },
     "execution_count": 32,
     "metadata": {},
     "output_type": "execute_result"
    }
   ],
   "source": [
    "bleu1 = corpus_bleu(references, candidates, weights=(1, 0, 0, 0), smoothing_function=smoothie)\n",
    "bleu1 * 100"
   ]
  },
  {
   "cell_type": "code",
   "execution_count": 33,
   "metadata": {},
   "outputs": [
    {
     "data": {
      "text/plain": [
       "5.231222308507492"
      ]
     },
     "execution_count": 33,
     "metadata": {},
     "output_type": "execute_result"
    }
   ],
   "source": [
    "bleu2 = corpus_bleu(references, candidates, weights=(0.5, 0.5, 0, 0), smoothing_function=smoothie)\n",
    "bleu2 * 100"
   ]
  },
  {
   "cell_type": "code",
   "execution_count": 29,
   "metadata": {},
   "outputs": [
    {
     "data": {
      "text/plain": [
       "0.9894012764400619"
      ]
     },
     "execution_count": 29,
     "metadata": {},
     "output_type": "execute_result"
    }
   ],
   "source": [
    "bleu3 = corpus_bleu(references, candidates, weights=(1/3, 1/3, 1/3, 0), smoothing_function=smoothie)\n",
    "bleu3 * 100"
   ]
  },
  {
   "cell_type": "code",
   "execution_count": 31,
   "metadata": {},
   "outputs": [
    {
     "data": {
      "text/plain": [
       "0.36606045067122717"
      ]
     },
     "execution_count": 31,
     "metadata": {},
     "output_type": "execute_result"
    }
   ],
   "source": [
    "bleu4 = corpus_bleu(references, candidates, weights=(0.25, 0.25, 0.25, 0.25), smoothing_function=smoothie)\n",
    "bleu4 * 100"
   ]
  },
  {
   "cell_type": "code",
   "execution_count": null,
   "metadata": {},
   "outputs": [],
   "source": [
    "from rouge_metric import PyRouge"
   ]
  },
  {
   "cell_type": "code",
   "execution_count": null,
   "metadata": {},
   "outputs": [],
   "source": [
    "rouge = PyRouge(rouge_n=(1), rouge_l=True, rouge_w=False, rouge_s=False, rouge_su=False)"
   ]
  },
  {
   "cell_type": "code",
   "execution_count": null,
   "metadata": {},
   "outputs": [],
   "source": [
    "score2 = rouge.evaluate_tokenized(candidates, references)\n",
    "score2"
   ]
  },
  {
   "cell_type": "code",
   "execution_count": null,
   "metadata": {},
   "outputs": [],
   "source": [
    "score = 0.22477793361383822\n",
    "score2 = 0.8104629866682204"
   ]
  },
  {
   "cell_type": "code",
   "execution_count": null,
   "metadata": {},
   "outputs": [],
   "source": [
    "2 * score * score2 / (score + score2) * 100"
   ]
  },
  {
   "cell_type": "code",
   "execution_count": 12,
   "metadata": {},
   "outputs": [],
   "source": [
    "# Calculate recall and F1 score\n",
    "true_positives = sum(1 for reference, candidate in zip(references, candidates) if reference == candidate)\n",
    "false_negatives = len(references) - true_positives\n",
    "false_positives = len(candidates) - true_positives\n",
    "\n",
    "recall = true_positives / (true_positives + false_negatives)\n",
    "precision = true_positives / (true_positives + false_positives)\n",
    "f1 = 2 * (precision * recall) / (precision + recall)"
   ]
  },
  {
   "cell_type": "code",
   "execution_count": 13,
   "metadata": {},
   "outputs": [
    {
     "data": {
      "text/plain": [
       "0.01"
      ]
     },
     "execution_count": 13,
     "metadata": {},
     "output_type": "execute_result"
    }
   ],
   "source": [
    "recall"
   ]
  },
  {
   "cell_type": "code",
   "execution_count": 14,
   "metadata": {},
   "outputs": [
    {
     "data": {
      "text/plain": [
       "0.01"
      ]
     },
     "execution_count": 14,
     "metadata": {},
     "output_type": "execute_result"
    }
   ],
   "source": [
    "precision"
   ]
  },
  {
   "cell_type": "code",
   "execution_count": 15,
   "metadata": {},
   "outputs": [
    {
     "data": {
      "text/plain": [
       "0.01"
      ]
     },
     "execution_count": 15,
     "metadata": {},
     "output_type": "execute_result"
    }
   ],
   "source": [
    "f1"
   ]
  },
  {
   "cell_type": "code",
   "execution_count": 46,
   "metadata": {},
   "outputs": [
    {
     "data": {
      "text/html": [
       "<div>\n",
       "<style scoped>\n",
       "    .dataframe tbody tr th:only-of-type {\n",
       "        vertical-align: middle;\n",
       "    }\n",
       "\n",
       "    .dataframe tbody tr th {\n",
       "        vertical-align: top;\n",
       "    }\n",
       "\n",
       "    .dataframe thead th {\n",
       "        text-align: right;\n",
       "    }\n",
       "</style>\n",
       "<table border=\"1\" class=\"dataframe\">\n",
       "  <thead>\n",
       "    <tr style=\"text-align: right;\">\n",
       "      <th></th>\n",
       "      <th>context_ref</th>\n",
       "      <th>answer_ref</th>\n",
       "      <th>question_ref</th>\n",
       "      <th>answer_predicted</th>\n",
       "    </tr>\n",
       "  </thead>\n",
       "  <tbody>\n",
       "    <tr>\n",
       "      <th>0</th>\n",
       "      <td>Beyoncé Giselle Knowles-Carter (/ b i gì ɒ n s...</td>\n",
       "      <td>Vào cuối những năm 1990</td>\n",
       "      <td>Beyonce bắt đầu nổi tiếng từ khi nào?</td>\n",
       "      <td>\"Crazy in Love\"</td>\n",
       "    </tr>\n",
       "    <tr>\n",
       "      <th>1</th>\n",
       "      <td>Beyoncé Giselle Knowles-Carter (/ b i gì ɒ n s...</td>\n",
       "      <td>Hát và nhảy múa</td>\n",
       "      <td>Beyonce đã cạnh tranh trong lĩnh vực nào khi c...</td>\n",
       "      <td>\"Crazy in Love\"</td>\n",
       "    </tr>\n",
       "    <tr>\n",
       "      <th>2</th>\n",
       "      <td>Beyoncé Giselle Knowles-Carter (/ b i gì ɒ n s...</td>\n",
       "      <td>2003</td>\n",
       "      <td>Beyonce rời Destiny's Child và trở thành ca sĩ...</td>\n",
       "      <td>\"Crazy in Love\"</td>\n",
       "    </tr>\n",
       "    <tr>\n",
       "      <th>3</th>\n",
       "      <td>Beyoncé Giselle Knowles-Carter (/ b i gì ɒ n s...</td>\n",
       "      <td>Houston Khách sạn</td>\n",
       "      <td>Beyonce lớn lên ở thành phố và tiểu bang nào?</td>\n",
       "      <td>\"Crazy in Love\"</td>\n",
       "    </tr>\n",
       "    <tr>\n",
       "      <th>4</th>\n",
       "      <td>Beyoncé Giselle Knowles-Carter (/ b i gì ɒ n s...</td>\n",
       "      <td>Cuối những năm 1990</td>\n",
       "      <td>Beyonce nổi tiếng trong thập kỷ nào?</td>\n",
       "      <td>\"Crazy in Love\"</td>\n",
       "    </tr>\n",
       "    <tr>\n",
       "      <th>...</th>\n",
       "      <td>...</td>\n",
       "      <td>...</td>\n",
       "      <td>...</td>\n",
       "      <td>...</td>\n",
       "    </tr>\n",
       "    <tr>\n",
       "      <th>95</th>\n",
       "      <td>LeToya Luckett và Roberson trở nên không hài l...</td>\n",
       "      <td>Farrah Franklin và Michelle Williams.</td>\n",
       "      <td>Ai thay thế Luckett và Roberson trong Destiny'...</td>\n",
       "      <td>Bạn trai lâu năm</td>\n",
       "    </tr>\n",
       "    <tr>\n",
       "      <th>96</th>\n",
       "      <td>LeToya Luckett và Roberson trở nên không hài l...</td>\n",
       "      <td>Beyoncé</td>\n",
       "      <td>Ai bị đổ lỗi vì Luckett và Roberson bỏ Destiny...</td>\n",
       "      <td>Bạn trai lâu năm</td>\n",
       "    </tr>\n",
       "    <tr>\n",
       "      <th>97</th>\n",
       "      <td>LeToya Luckett và Roberson trở nên không hài l...</td>\n",
       "      <td>Mẹ cô ấy</td>\n",
       "      <td>Ai đã giúp Beyoncé vượt qua chứng trầm cảm của...</td>\n",
       "      <td>Bạn trai lâu năm</td>\n",
       "    </tr>\n",
       "    <tr>\n",
       "      <th>98</th>\n",
       "      <td>LeToya Luckett và Roberson trở nên không hài l...</td>\n",
       "      <td>Chi Chi Medina</td>\n",
       "      <td>Thành viên mới nhất nào đã bị xoá khỏi Destiny...</td>\n",
       "      <td>Bạn trai lâu năm</td>\n",
       "    </tr>\n",
       "    <tr>\n",
       "      <th>99</th>\n",
       "      <td>Các thành viên ban nhạc còn lại đã thu âm \"Phụ...</td>\n",
       "      <td>Phụ nữ độc lập Phần I</td>\n",
       "      <td>\"Charlie's Angels\" có đĩa đơn nào từ các thành...</td>\n",
       "      <td>Tháng 10 năm 2001</td>\n",
       "    </tr>\n",
       "  </tbody>\n",
       "</table>\n",
       "<p>100 rows × 4 columns</p>\n",
       "</div>"
      ],
      "text/plain": [
       "                                          context_ref  \\\n",
       "0   Beyoncé Giselle Knowles-Carter (/ b i gì ɒ n s...   \n",
       "1   Beyoncé Giselle Knowles-Carter (/ b i gì ɒ n s...   \n",
       "2   Beyoncé Giselle Knowles-Carter (/ b i gì ɒ n s...   \n",
       "3   Beyoncé Giselle Knowles-Carter (/ b i gì ɒ n s...   \n",
       "4   Beyoncé Giselle Knowles-Carter (/ b i gì ɒ n s...   \n",
       "..                                                ...   \n",
       "95  LeToya Luckett và Roberson trở nên không hài l...   \n",
       "96  LeToya Luckett và Roberson trở nên không hài l...   \n",
       "97  LeToya Luckett và Roberson trở nên không hài l...   \n",
       "98  LeToya Luckett và Roberson trở nên không hài l...   \n",
       "99  Các thành viên ban nhạc còn lại đã thu âm \"Phụ...   \n",
       "\n",
       "                               answer_ref  \\\n",
       "0                 Vào cuối những năm 1990   \n",
       "1                         Hát và nhảy múa   \n",
       "2                                    2003   \n",
       "3                       Houston Khách sạn   \n",
       "4                     Cuối những năm 1990   \n",
       "..                                    ...   \n",
       "95  Farrah Franklin và Michelle Williams.   \n",
       "96                                Beyoncé   \n",
       "97                               Mẹ cô ấy   \n",
       "98                         Chi Chi Medina   \n",
       "99                  Phụ nữ độc lập Phần I   \n",
       "\n",
       "                                         question_ref   answer_predicted  \n",
       "0               Beyonce bắt đầu nổi tiếng từ khi nào?    \"Crazy in Love\"  \n",
       "1   Beyonce đã cạnh tranh trong lĩnh vực nào khi c...    \"Crazy in Love\"  \n",
       "2   Beyonce rời Destiny's Child và trở thành ca sĩ...    \"Crazy in Love\"  \n",
       "3      Beyonce lớn lên ở thành phố và tiểu bang nào?     \"Crazy in Love\"  \n",
       "4                Beyonce nổi tiếng trong thập kỷ nào?    \"Crazy in Love\"  \n",
       "..                                                ...                ...  \n",
       "95  Ai thay thế Luckett và Roberson trong Destiny'...   Bạn trai lâu năm  \n",
       "96  Ai bị đổ lỗi vì Luckett và Roberson bỏ Destiny...   Bạn trai lâu năm  \n",
       "97  Ai đã giúp Beyoncé vượt qua chứng trầm cảm của...   Bạn trai lâu năm  \n",
       "98  Thành viên mới nhất nào đã bị xoá khỏi Destiny...   Bạn trai lâu năm  \n",
       "99  \"Charlie's Angels\" có đĩa đơn nào từ các thành...  Tháng 10 năm 2001  \n",
       "\n",
       "[100 rows x 4 columns]"
      ]
     },
     "execution_count": 46,
     "metadata": {},
     "output_type": "execute_result"
    }
   ],
   "source": [
    "df_predict = pd.read_pickle(\"./ae_generated_data.pkl\")\n",
    "df_predict = pd.DataFrame(df_predict, columns=[\"context_ref\", \"answer_ref\", \"question_ref\", \"answer_predicted\"])\n",
    "df_predict"
   ]
  }
 ],
 "metadata": {
  "kernelspec": {
   "display_name": "Python 3.9.9 64-bit ('capstone')",
   "language": "python",
   "name": "python3"
  },
  "language_info": {
   "codemirror_mode": {
    "name": "ipython",
    "version": 3
   },
   "file_extension": ".py",
   "mimetype": "text/x-python",
   "name": "python",
   "nbconvert_exporter": "python",
   "pygments_lexer": "ipython3",
   "version": "3.9.9"
  },
  "orig_nbformat": 4,
  "vscode": {
   "interpreter": {
    "hash": "2e7c409f47bcd4b1696fc7d67e6b9e4e0753ff950dd56cd11538ce6de17030f2"
   }
  }
 },
 "nbformat": 4,
 "nbformat_minor": 2
}
